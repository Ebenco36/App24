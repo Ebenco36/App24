{
  "nbformat": 4,
  "nbformat_minor": 0,
  "metadata": {
    "colab": {
      "name": "Untitled6.ipynb",
      "provenance": [],
      "collapsed_sections": [],
      "authorship_tag": "ABX9TyNilY4Vh3EQlNsWdtMbA84T",
      "include_colab_link": true
    },
    "kernelspec": {
      "name": "python3",
      "display_name": "Python 3"
    }
  },
  "cells": [
    {
      "cell_type": "markdown",
      "metadata": {
        "id": "view-in-github",
        "colab_type": "text"
      },
      "source": [
        "<a href=\"https://colab.research.google.com/github/Ebenco36/App24/blob/master/cv2Tutorial1.ipynb\" target=\"_parent\"><img src=\"https://colab.research.google.com/assets/colab-badge.svg\" alt=\"Open In Colab\"/></a>"
      ]
    },
    {
      "cell_type": "code",
      "metadata": {
        "id": "YvliAPlABnAX",
        "colab_type": "code",
        "colab": {
          "base_uri": "https://localhost:8080/",
          "height": 35
        },
        "outputId": "4035ef60-39dd-4119-a90f-29f8e5a29979"
      },
      "source": [
        "import cv2\n",
        "cv2.__version__"
      ],
      "execution_count": 1,
      "outputs": [
        {
          "output_type": "execute_result",
          "data": {
            "application/vnd.google.colaboratory.intrinsic+json": {
              "type": "string"
            },
            "text/plain": [
              "'4.1.2'"
            ]
          },
          "metadata": {
            "tags": []
          },
          "execution_count": 1
        }
      ]
    },
    {
      "cell_type": "code",
      "metadata": {
        "id": "kXDkUgdDCHO5",
        "colab_type": "code",
        "colab": {}
      },
      "source": [
        "video_caption = cv2.VideoCapture(0)\n",
        "\n",
        "while True:\n",
        "  _, img = video_caption.read()\n",
        "  cv2.imshow(\"Face Detection\", img)\n",
        "  if cv2.waitKey(1) & 0xFF = ord('q'):\n",
        "    break\n",
        "video_caption.release()\n",
        "cv2.destroyAllWindows()\n",
        "\n"
      ],
      "execution_count": null,
      "outputs": []
    }
  ]
}